{
 "cells": [
  {
   "cell_type": "code",
   "execution_count": null,
   "id": "69cb8f9f-f81c-4da3-bd3d-c891ddff6e93",
   "metadata": {},
   "outputs": [
    {
     "name": "stdout",
     "output_type": "stream",
     "text": [
      "Requirement already satisfied: pandas in c:\\users\\e3952\\anaconda3\\lib\\site-packages (1.2.4)\n",
      "Requirement already satisfied: numpy>=1.16.5 in c:\\users\\e3952\\anaconda3\\lib\\site-packages (from pandas) (1.20.1)\n",
      "Requirement already satisfied: pytz>=2017.3 in c:\\users\\e3952\\anaconda3\\lib\\site-packages (from pandas) (2021.1)\n",
      "Requirement already satisfied: python-dateutil>=2.7.3 in c:\\users\\e3952\\anaconda3\\lib\\site-packages (from pandas) (2.8.1)\n",
      "Requirement already satisfied: six>=1.5 in c:\\users\\e3952\\anaconda3\\lib\\site-packages (from python-dateutil>=2.7.3->pandas) (1.15.0)\n"
     ]
    }
   ],
   "source": [
    "!pip install pandas\n",
    "!pip install numpy\n",
    "!pip install matplotlib\n",
    "!pip install seaborn"
   ]
  },
  {
   "cell_type": "code",
   "execution_count": null,
   "id": "85b5767d-df77-48a5-9202-cbf503292f07",
   "metadata": {},
   "outputs": [],
   "source": [
    "import pandas as pd\n",
    "import numpy as np\n",
    "data = pd.read_csv('data/president_heights.csv')\n",
    "data.head()"
   ]
  },
  {
   "cell_type": "code",
   "execution_count": null,
   "id": "7282057d-1a9a-4971-af15-10038035b90b",
   "metadata": {},
   "outputs": [],
   "source": [
    "heights = np.array(data['height(cm)'])\n",
    "print(heights)"
   ]
  },
  {
   "cell_type": "code",
   "execution_count": null,
   "id": "43263c25-31bc-4e3d-84d7-983204e8f577",
   "metadata": {},
   "outputs": [],
   "source": [
    "Mean_height = np.mean(heights)\n",
    "print(\"Mean height =\", Mean_height)\n",
    "Standard_deviation = np.std(heights)\n",
    "print(\"Standard deviation =\", Standard_deviation)\n",
    "Minimum_height = np.min(heights)\n",
    "print(\"Minimum height =\", Minimum_height)\n",
    "Maximum_height = np.max(heights)\n",
    "print(\"Maximum height =\", Maximum_height)\n",
    "_25th_percentile = np.percentile(heights, 25)\n",
    "print(\"25th percentile =\", _25th_percentile)\n",
    "Median = np.median(heights)\n",
    "print(\"Median =\", Median)\n",
    "_75th_percentile = np.percentile(heights, 75)\n",
    "print(\"75th percentile =\", _75th_percentile)"
   ]
  },
  {
   "cell_type": "code",
   "execution_count": null,
   "id": "4e755b20-94cf-4d36-9d3d-0c2149329675",
   "metadata": {},
   "outputs": [],
   "source": [
    "max_idx = np.argmax(heights)\n",
    "min_idx = np.argmin(heights)\n",
    "print(\"max_idx =\", max_idx)\n",
    "print(\"min_idx =\", min_idx)\n",
    "\n",
    "max_name = data.iloc[max_idx]['name']\n",
    "min_name = data.iloc[min_idx]['name']\n",
    "\n",
    "print(\"The tallest president is\", max_name)\n",
    "print(\"The smallest president is\", min_name)"
   ]
  },
  {
   "cell_type": "code",
   "execution_count": null,
   "id": "d2b79a2a-7b9c-4149-852a-3e588281e028",
   "metadata": {},
   "outputs": [],
   "source": [
    "from matplotlib import pyplot as plt\n",
    "import seaborn"
   ]
  },
  {
   "cell_type": "code",
   "execution_count": null,
   "id": "dda0b51c-b766-44c5-baea-6ad2cab6b3cc",
   "metadata": {},
   "outputs": [],
   "source": [
    "%matplotlib inline\n",
    "%config InlineBackend.figure_format = 'svg'\n",
    "seaborn.set()\n",
    "\n",
    "plt.hist(heights)\n",
    "plt.title('Height Distribution of US President')\n",
    "plt.xlabel('height (cm)')\n",
    "plt.ylabel('number')\n",
    "plt.show()"
   ]
  },
  {
   "cell_type": "code",
   "execution_count": null,
   "id": "1c33a378-1391-4f53-bcae-ab7130a02126",
   "metadata": {},
   "outputs": [],
   "source": []
  }
 ],
 "metadata": {
  "kernelspec": {
   "display_name": "Python 3",
   "language": "python",
   "name": "python3"
  },
  "language_info": {
   "codemirror_mode": {
    "name": "ipython",
    "version": 3
   },
   "file_extension": ".py",
   "mimetype": "text/x-python",
   "name": "python",
   "nbconvert_exporter": "python",
   "pygments_lexer": "ipython3",
   "version": "3.8.8"
  }
 },
 "nbformat": 4,
 "nbformat_minor": 5
}
