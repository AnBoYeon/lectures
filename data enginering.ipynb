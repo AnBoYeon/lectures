{
 "cells": [
  {
   "cell_type": "code",
   "execution_count": 20,
   "id": "4e391b9a",
   "metadata": {
    "scrolled": true
   },
   "outputs": [
    {
     "name": "stdout",
     "output_type": "stream",
     "text": [
      "Hello world!\n",
      "100\n",
      "3.14\n",
      "My name isHyun Ahn\n"
     ]
    }
   ],
   "source": [
    "\"\"\"\n",
    "print()fuction\n",
    "\"\"\"\n",
    "print(\"Hello world!\")\n",
    "print(100)\n",
    "pi=3.14\n",
    "print(pi)\n",
    "\n",
    "intro=\"My name is\"\n",
    "name=\"Hyun Ahn\"\n",
    "print(intro+name)"
   ]
  },
  {
   "cell_type": "code",
   "execution_count": 17,
   "id": "695f4bcc",
   "metadata": {},
   "outputs": [],
   "source": [
    "\"\"\"\n",
    "variables\n",
    "\"\"\"\n",
    "user_name=\"Hyun Ahn\"\n",
    "user_id=20210024\n",
    "user_email=\"hyunahn@hs.ac.kr\"\n",
    "is_student=False\n",
    "\n",
    "\n",
    "# 본인을 표현할 수 있는 세가지 이상의 정보를 변수로 정의하시오\n",
    "user_name=\"Bo Yeon An\"\n",
    "user_id=202055041\n",
    "user_email=\"by9349@hs.ac.kr\"\n"
   ]
  },
  {
   "cell_type": "code",
   "execution_count": 1,
   "id": "089b21b7",
   "metadata": {},
   "outputs": [],
   "source": [
    "\"\"\"\n",
    "data types: integers\n",
    "\"\"\"\n",
    "chairs=4\n",
    "tables=1\n",
    "broken_chairs=2\n",
    "sofas=0\n",
    "#본인의 집에 있는 사물의 개수를 정수 유형의 변수로 정의하시오\n",
    "\n",
    "computers=3\n",
    "tv=2\n",
    "refrigerator=2\n",
    " "
   ]
  },
  {
   "cell_type": "code",
   "execution_count": 2,
   "id": "bedb817a",
   "metadata": {},
   "outputs": [
    {
     "ename": "SyntaxError",
     "evalue": "invalid syntax (<ipython-input-2-a4e360873449>, line 6)",
     "output_type": "error",
     "traceback": [
      "\u001b[1;36m  File \u001b[1;32m\"<ipython-input-2-a4e360873449>\"\u001b[1;36m, line \u001b[1;32m6\u001b[0m\n\u001b[1;33m    kospi_index=3.125.76\u001b[0m\n\u001b[1;37m                     ^\u001b[0m\n\u001b[1;31mSyntaxError\u001b[0m\u001b[1;31m:\u001b[0m invalid syntax\n"
     ]
    }
   ],
   "source": [
    "\"\"\"\n",
    "Data Types:Real Numbers\n",
    "\"\"\"\n",
    "\n",
    "PI=3.14\n",
    "kospi_index=3.125.76\n",
    "krw_usd_exchange=1176.83\n",
    "\n",
    "#본인이 알고 있는 실수를 변수로 정의하시오(세가지 이상)\n"
   ]
  },
  {
   "cell_type": "code",
   "execution_count": 7,
   "id": "7dc1660b",
   "metadata": {},
   "outputs": [
    {
     "ename": "SyntaxError",
     "evalue": "invalid syntax (<ipython-input-7-ab02f43688f7>, line 10)",
     "output_type": "error",
     "traceback": [
      "\u001b[1;36m  File \u001b[1;32m\"<ipython-input-7-ab02f43688f7>\"\u001b[1;36m, line \u001b[1;32m10\u001b[0m\n\u001b[1;33m    favorie_mobile game=\"battle ground\"\u001b[0m\n\u001b[1;37m                   ^\u001b[0m\n\u001b[1;31mSyntaxError\u001b[0m\u001b[1;31m:\u001b[0m invalid syntax\n"
     ]
    }
   ],
   "source": [
    "\"\"\"\n",
    "Data Types: Strings\n",
    "\"\"\"\n",
    "\n",
    "favorite_motto=\"Chance favors the prepared mind\"\n",
    "favorite_game=\"Elder scrolls\"\n",
    "favorite_athlete=\"sonny\"\n",
    "\n",
    "#본인이 좋아하는 것들을 문자열 변수로 정의하시오\n",
    "favorie_mobile game=\"battle ground\"\n",
    "favoire_food=\"meat\"\n",
    "favoire_season=\"spring\"\n"
   ]
  },
  {
   "cell_type": "code",
   "execution_count": 8,
   "id": "f810f362",
   "metadata": {},
   "outputs": [
    {
     "name": "stdout",
     "output_type": "stream",
     "text": [
      "64\n"
     ]
    }
   ],
   "source": [
    "\"\"\"\n",
    "Plus-Equals Operations\n",
    "\"\"\"\n",
    "\n",
    "a=8\n",
    "a**=2\n",
    "print(a)"
   ]
  },
  {
   "cell_type": "code",
   "execution_count": 15,
   "id": "3884ce9d",
   "metadata": {},
   "outputs": [
    {
     "name": "stdout",
     "output_type": "stream",
     "text": [
      "HSU\n"
     ]
    }
   ],
   "source": [
    "\"\"\"\n",
    "Errors\n",
    "\"\"\"\n",
    "#Name Errors\n",
    "\n",
    "my_school=\"HSU\"\n",
    "print(my_school)"
   ]
  },
  {
   "cell_type": "markdown",
   "id": "97a66ad2",
   "metadata": {},
   "source": [
    "# 레벨1\n",
    "### 레벨2\n",
    "다음의 코드는 무엇을 수행합니다"
   ]
  },
  {
   "cell_type": "code",
   "execution_count": 6,
   "id": "5e90553f",
   "metadata": {},
   "outputs": [
    {
     "name": "stdout",
     "output_type": "stream",
     "text": [
      "<class 'bool'>\n",
      "<class 'str'>\n"
     ]
    }
   ],
   "source": [
    "is_tested=True\n",
    "print(type(is_tested))#변수가 어떤 데이터 타입인지를 알려주는 함수\n",
    "\n",
    "a=\"3.14\"\n",
    "print(type(a))"
   ]
  },
  {
   "cell_type": "code",
   "execution_count": 5,
   "id": "95402639",
   "metadata": {},
   "outputs": [
    {
     "data": {
      "text/plain": [
       "False"
      ]
     },
     "execution_count": 5,
     "metadata": {},
     "output_type": "execute_result"
    }
   ],
   "source": [
    "chr='a'\n",
    "a=97\n",
    "chr==a"
   ]
  },
  {
   "cell_type": "code",
   "execution_count": 11,
   "id": "65de4e6f",
   "metadata": {},
   "outputs": [
    {
     "ename": "SyntaxError",
     "evalue": "invalid syntax (<ipython-input-11-87042fbd62cd>, line 7)",
     "output_type": "error",
     "traceback": [
      "\u001b[1;36m  File \u001b[1;32m\"<ipython-input-11-87042fbd62cd>\"\u001b[1;36m, line \u001b[1;32m7\u001b[0m\n\u001b[1;33m    if puppy==\"maltese\"\u001b[0m\n\u001b[1;37m                       ^\u001b[0m\n\u001b[1;31mSyntaxError\u001b[0m\u001b[1;31m:\u001b[0m invalid syntax\n"
     ]
    }
   ],
   "source": [
    "\"\"\"\n",
    "conditional statements\n",
    "\"\"\"\n",
    "puppy=\"maltepoo\"\n",
    "is_yes=False\n",
    "\n",
    "if puppy==\"maltese\"\n",
    "    is_yes=True\n",
    "print(\"말티지 맞아요\")\n",
    "print(is_yes)"
   ]
  },
  {
   "cell_type": "code",
   "execution_count": 10,
   "id": "440c766f",
   "metadata": {},
   "outputs": [
    {
     "name": "stdout",
     "output_type": "stream",
     "text": [
      "[Error]\n",
      "continue....\n"
     ]
    }
   ],
   "source": [
    "\"Exception Handling\"\n",
    "\n",
    "x=1\n",
    "\n",
    "try:\n",
    "    print(y)\n",
    "    print(x)\n",
    "except:\n",
    "    print('[Error]')\n",
    "print(\"continue....\")"
   ]
  },
  {
   "cell_type": "code",
   "execution_count": 2,
   "id": "5dff2ada",
   "metadata": {},
   "outputs": [
    {
     "name": "stdout",
     "output_type": "stream",
     "text": [
      "[2, 3, 5, 7, 11, 2]\n",
      "[]\n"
     ]
    }
   ],
   "source": [
    "\"\"\"\n",
    "Lists\n",
    "\"\"\"\n",
    "primes=[2,3,5,7,11,2]\n",
    "print(primes)\n",
    "\n",
    "empty_list=[]\n",
    "print(empty_list)"
   ]
  },
  {
   "cell_type": "code",
   "execution_count": 4,
   "id": "8ebbc497-62dc-4508-8889-9709ffad6d88",
   "metadata": {},
   "outputs": [
    {
     "name": "stdout",
     "output_type": "stream",
     "text": [
      "['Jenny', 1, 1.4, True]\n"
     ]
    }
   ],
   "source": [
    "\"\"\"\n",
    "Multiple different data types\n",
    "\"\"\"\n",
    "\n",
    "mixed=['Jenny',1,1.4, True]\n",
    "print(mixed)\n",
    "list_of_lists=[['a',1],['b',2]]"
   ]
  },
  {
   "cell_type": "code",
   "execution_count": 6,
   "id": "38775e34-f0bd-4498-9897-dbba4e0ba115",
   "metadata": {},
   "outputs": [
    {
     "name": "stdout",
     "output_type": "stream",
     "text": [
      "Roger\n",
      "Rafael\n",
      "Andy\n",
      "Novak\n"
     ]
    }
   ],
   "source": [
    "\"\"\"\n",
    "zero_indexing\n",
    "\"\"\"\n",
    "names=['Roger','Rafael','Andy','Novak']\n",
    "\n",
    "print(names[0])\n",
    "print(names[1])\n",
    "print(names[2])\n",
    "print(names[3])"
   ]
  },
  {
   "cell_type": "code",
   "execution_count": 8,
   "id": "1a78933e-bafb-49af-a75a-3bd89f87fa6a",
   "metadata": {},
   "outputs": [
    {
     "name": "stdout",
     "output_type": "stream",
     "text": [
      "['장공관', '필현관', '소통관']\n",
      "['만우관', '장공관', '필현관', '소통관', '송암관', '늦봄관', '장준하통일관']\n"
     ]
    }
   ],
   "source": [
    "\"\"\"\n",
    "List slicing\n",
    "\"\"\"\n",
    "\n",
    "hsu_buildings=['만우관','장공관','필현관','소통관','송암관','늦봄관','장준하통일관' ]\n",
    "building_slice=hsu_buildings[1:4]\n",
    "building_slice[ 0]\n",
    "print(building_slice)\n",
    "print(hsu_buildings)"
   ]
  },
  {
   "cell_type": "code",
   "execution_count": 9,
   "id": "6097281a-3f0a-4c3e-a69c-518f15b05f11",
   "metadata": {},
   "outputs": [
    {
     "name": "stdout",
     "output_type": "stream",
     "text": [
      "['cake', 'cookie', 'bread', 'biscuit', 'tart']\n"
     ]
    }
   ],
   "source": [
    " \"\"\"\n",
    " Adding Lists Together\n",
    " \"\"\"\n",
    "items_one=['cake','cookie','bread']\n",
    "items_two=['biscuit','tart']\n",
    "\n",
    "total_items=items_one+items_two\n",
    "print(total_items)"
   ]
  },
  {
   "cell_type": "code",
   "execution_count": 16,
   "id": "36bffba3-6ef0-4f0e-bf0f-dc28bf13716c",
   "metadata": {},
   "outputs": [
    {
     "name": "stdout",
     "output_type": "stream",
     "text": [
      "5\n",
      "['daisies', 'periwinkle', 'tulips']\n",
      "['Karla', 'Mazium', 'vikor', 'Martin', 'Isabella']\n",
      "[1, 2, 3, 4]\n",
      "['늦봄관', '만우관', '소통관', '송암관', '장공관', '장준하통일관', '필현관']\n"
     ]
    }
   ],
   "source": [
    "\"\"\"\n",
    "useful methods for lists\n",
    "\"\"\"\n",
    "#Len()\n",
    "knapsack=[2,4,3,7,10]\n",
    "size=len(knapsack)\n",
    "print(size)\n",
    "\n",
    "#append()\n",
    "orders=['daisies','periwinkle']\n",
    "orders.append('tulips')\n",
    "print(orders)\n",
    "\n",
    "#insert()\n",
    "store_line=['Karla','Mazium','Martin','Isabella']\n",
    "store_line.insert(2,'vikor')\n",
    "\n",
    "print(store_line)\n",
    "\n",
    "#sort()\n",
    "numbers=[4,2,1,3]\n",
    "numbers.sort()\n",
    "print(numbers)\n",
    "\n",
    "hsu_buildings=['만우관','장공관','필현관','소통관','송암관','늦봄관','장준하통일관' ]\n",
    "hsu_buildings.sort()\n",
    "\n",
    "print(hsu_buildings)"
   ]
  },
  {
   "cell_type": "code",
   "execution_count": null,
   "id": "d54e23c0-1751-4817-bcce-59c038bf10e0",
   "metadata": {},
   "outputs": [],
   "source": [
    "num=[1,2,-1,4,-5,5,2,-9]\n",
    "\n",
    "for num in nums;\n",
    "    if num<0;\n",
    "    "
   ]
  },
  {
   "cell_type": "code",
   "execution_count": null,
   "id": "114726a8-d866-493d-a3da-1762d7adb92f",
   "metadata": {},
   "outputs": [],
   "source": [
    "\"\"\"\n",
    "Fuctins vs Method\n",
    "\"\"\"\n",
    "\n",
    "def my_fuction(x):\n",
    "    return x+1\n",
    "\n",
    "y=3\n",
    "result=my_fuction(y)\n",
    "print(result)\n",
    "\n",
    "x=1\n",
    "\n",
    "class my_class:\n",
    "def my_method(self):\n",
    "    return x+1\n",
    "\n",
    "cls=my_class()\n",
    "cls.my_method()\n"
   ]
  },
  {
   "cell_type": "code",
   "execution_count": null,
   "id": "5cb47eee-930b-4781-8d88-47137ee0ff03",
   "metadata": {},
   "outputs": [],
   "source": [
    "\"\"\"\n",
    "fuction Parameters\n",
    "\"\"\"\n",
    "\n",
    "def introduce_myself(name, birthyear, city):#prarameter\n",
    "    print(\"Hello everyone My name is %s, I was bron in %d, and I live in %s\"\\%(name,birthyear, city))\n",
    "    introduce_myself(\"Hyun Ahn\",1985,\"Anyang\")#argument\n",
    "        "
   ]
  },
  {
   "cell_type": "code",
   "execution_count": null,
   "id": "333e0c60-a969-4ed4-93d2-2255535cde3f",
   "metadata": {},
   "outputs": [],
   "source": [
    "\"\"\"\n",
    "Return KeyWord\n",
    "\"\"\"\n",
    "#Leap year=윤년(2월 29일)\n",
    "def check_leap_year(year):\n",
    "    if year %4==0:\n",
    "        return \"%s is a leap year\"\n",
    "    else:\n",
    "        return\"%s is not a leap year.\" %(year)\n",
    "check_leap_year(2021)"
   ]
  },
  {
   "cell_type": "code",
   "execution_count": null,
   "id": "5ffc4911-0ae4-4ce1-adeb-7df70d1b4b75",
   "metadata": {},
   "outputs": [],
   "source": [
    "\"\"\"\n",
    "Returning Multiple Values\n",
    "\"\"\"\n",
    "def square_point(x,y,z):\n",
    "    x_squared=x**2\n",
    "    y_squared=y**2\n",
    "    z_squared=z**2\n",
    "    return x_squared,y_squared,z_squared\n",
    "\n",
    "three_squared, four_squared, five_squared=square_point(3,4,5)\n",
    "print(three_squared, four_squared, five_squared)"
   ]
  },
  {
   "cell_type": "code",
   "execution_count": null,
   "id": "5464c40d-5136-49b2-9bf5-88038be63933",
   "metadata": {},
   "outputs": [],
   "source": [
    "a=\"Hello\"\n",
    "\n",
    "def prints_a():\n",
    "    print(a)\n",
    "    "
   ]
  },
  {
   "cell_type": "code",
   "execution_count": null,
   "id": "f7fa83f3-d4fb-4266-a643-c008b0e8d2a4",
   "metadata": {},
   "outputs": [],
   "source": [
    "def f1():\n",
    "    b=2\n",
    "    print(b)\n",
    "f1()\n",
    "print(b)\n"
   ]
  },
  {
   "cell_type": "code",
   "execution_count": null,
   "id": "f7243315-f576-4cb4-945b-3089a382894a",
   "metadata": {},
   "outputs": [],
   "source": [
    "\"\"\"\n",
    "keyword Arguments and Default Values\n",
    "\"\"\"\n",
    "\n",
    "def findvolume(height, width,depth):\n",
    "    print(\"Height =%s\",%(height))\n",
    "     print(\"Height =%s\",%(width))\n",
    "      print(\"Height =%s\",%(depth))\n",
    "    return height*width*depth\n",
    "\n",
    "print(findvolume(1,2,3))\n"
   ]
  },
  {
   "cell_type": "code",
   "execution_count": null,
   "id": "f07113d5-6a65-4c56-92b8-930b8ccc429b",
   "metadata": {},
   "outputs": [],
   "source": []
  }
 ],
 "metadata": {
  "kernelspec": {
   "display_name": "Python 3",
   "language": "python",
   "name": "python3"
  },
  "language_info": {
   "codemirror_mode": {
    "name": "ipython",
    "version": 3
   },
   "file_extension": ".py",
   "mimetype": "text/x-python",
   "name": "python",
   "nbconvert_exporter": "python",
   "pygments_lexer": "ipython3",
   "version": "3.8.8"
  }
 },
 "nbformat": 4,
 "nbformat_minor": 5
}
